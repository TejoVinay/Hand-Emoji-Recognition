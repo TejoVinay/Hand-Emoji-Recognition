{
 "cells": [
  {
   "cell_type": "code",
   "execution_count": 2,
   "metadata": {},
   "outputs": [
    {
     "name": "stderr",
     "output_type": "stream",
     "text": [
      "C:\\Users\\Tejo Vinay\\Anaconda3\\lib\\site-packages\\ipykernel_launcher.py:17: DeprecationWarning: `imread` is deprecated!\n",
      "`imread` is deprecated in SciPy 1.0.0, and will be removed in 1.2.0.\n",
      "Use ``imageio.imread`` instead.\n"
     ]
    },
    {
     "name": "stdout",
     "output_type": "stream",
     "text": [
      "==========="
     ]
    }
   ],
   "source": [
    "import numpy as np\n",
    "import pandas as pd\n",
    "import os\n",
    "from scipy.misc import imread\n",
    "\n",
    "root_dir = os.getcwd()\n",
    "img_dir = os.path.join(root_dir, 'gestures')\n",
    "\n",
    "pixels = np.array(['pixel_{:04d}'.format(x) for x in range(2500)])\n",
    "flag = True\n",
    "\n",
    "for char_name in sorted(os.listdir(img_dir)):\n",
    "    char_dir = os.path.join(img_dir, char_name)\n",
    "    img_df = pd.DataFrame(columns=pixels)\n",
    "    \n",
    "    for img_file in sorted(os.listdir(char_dir)):\n",
    "        image = pd.Series(imread(os.path.join(char_dir, img_file)).flatten(), index=pixels)\n",
    "        img_df = img_df.append(image.T, ignore_index=True)\n",
    "        \n",
    "    img_df = img_df.astype(np.uint8)\n",
    "    img_df['emoji'] = char_name\n",
    "    \n",
    "    img_df.to_csv('data.csv', index=False, mode='a', header=flag)\n",
    "    flag=False\n",
    "    \n",
    "    print('=', end='')"
   ]
  },
  {
   "cell_type": "code",
   "execution_count": null,
   "metadata": {},
   "outputs": [],
   "source": []
  }
 ],
 "metadata": {
  "kernelspec": {
   "display_name": "Python 3",
   "language": "python",
   "name": "python3"
  },
  "language_info": {
   "codemirror_mode": {
    "name": "ipython",
    "version": 3
   },
   "file_extension": ".py",
   "mimetype": "text/x-python",
   "name": "python",
   "nbconvert_exporter": "python",
   "pygments_lexer": "ipython3",
   "version": "3.7.3"
  }
 },
 "nbformat": 4,
 "nbformat_minor": 2
}
